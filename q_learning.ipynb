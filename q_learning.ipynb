{
 "cells": [
  {
   "cell_type": "code",
   "execution_count": 1,
   "id": "acf46ab3",
   "metadata": {},
   "outputs": [
    {
     "name": "stdout",
     "output_type": "stream",
     "text": [
      "Requirement already satisfied: rware in /Users/carmenhe/Desktop/cse190-drl/intro-deep-rl-course/homeworks/hw2/venv/lib/python3.12/site-packages (2.0.0)\n",
      "Requirement already satisfied: numpy in /Users/carmenhe/Desktop/cse190-drl/intro-deep-rl-course/homeworks/hw2/venv/lib/python3.12/site-packages (from rware) (2.2.5)\n",
      "Requirement already satisfied: gymnasium in /Users/carmenhe/Desktop/cse190-drl/intro-deep-rl-course/homeworks/hw2/venv/lib/python3.12/site-packages (from rware) (1.1.1)\n",
      "Requirement already satisfied: pyglet<2 in /Users/carmenhe/Desktop/cse190-drl/intro-deep-rl-course/homeworks/hw2/venv/lib/python3.12/site-packages (from rware) (1.5.31)\n",
      "Requirement already satisfied: networkx in /Users/carmenhe/Desktop/cse190-drl/intro-deep-rl-course/homeworks/hw2/venv/lib/python3.12/site-packages (from rware) (3.4.2)\n",
      "Requirement already satisfied: cloudpickle>=1.2.0 in /Users/carmenhe/Desktop/cse190-drl/intro-deep-rl-course/homeworks/hw2/venv/lib/python3.12/site-packages (from gymnasium->rware) (3.1.1)\n",
      "Requirement already satisfied: typing-extensions>=4.3.0 in /Users/carmenhe/Desktop/cse190-drl/intro-deep-rl-course/homeworks/hw2/venv/lib/python3.12/site-packages (from gymnasium->rware) (4.13.2)\n",
      "Requirement already satisfied: farama-notifications>=0.0.1 in /Users/carmenhe/Desktop/cse190-drl/intro-deep-rl-course/homeworks/hw2/venv/lib/python3.12/site-packages (from gymnasium->rware) (0.0.4)\n",
      "Note: you may need to restart the kernel to use updated packages.\n",
      "Requirement already satisfied: imageio in /Users/carmenhe/Desktop/cse190-drl/intro-deep-rl-course/homeworks/hw2/venv/lib/python3.12/site-packages (2.37.0)\n",
      "Requirement already satisfied: numpy in /Users/carmenhe/Desktop/cse190-drl/intro-deep-rl-course/homeworks/hw2/venv/lib/python3.12/site-packages (from imageio) (2.2.5)\n",
      "Requirement already satisfied: pillow>=8.3.2 in /Users/carmenhe/Desktop/cse190-drl/intro-deep-rl-course/homeworks/hw2/venv/lib/python3.12/site-packages (from imageio) (11.2.1)\n",
      "Note: you may need to restart the kernel to use updated packages.\n"
     ]
    }
   ],
   "source": [
    "%pip install rware\n",
    "%pip install imageio"
   ]
  },
  {
   "cell_type": "code",
   "execution_count": 1,
   "id": "cf0463f7",
   "metadata": {},
   "outputs": [],
   "source": [
    "import gymnasium as gym\n",
    "import rware\n",
    "\n",
    "import copy\n",
    "import random\n",
    "import time\n",
    "import pickle\n",
    "\n",
    "# imports for DQN\n",
    "import torch\n",
    "import torch.nn as nn\n",
    "import torch.optim as optim\n",
    "import torch.nn.functional as F\n",
    "from collections import deque\n",
    "import numpy as np\n",
    "\n",
    "# other imports\n",
    "import matplotlib.pyplot as plt\n",
    "import imageio\n",
    "from pyglet import image\n"
   ]
  },
  {
   "cell_type": "code",
   "execution_count": 2,
   "id": "7e9fb5cc",
   "metadata": {},
   "outputs": [],
   "source": [
    "env = gym.make(\"rware-tiny-2ag-v2\")"
   ]
  },
  {
   "cell_type": "code",
   "execution_count": 3,
   "id": "3f38346d",
   "metadata": {},
   "outputs": [
    {
     "name": "stdout",
     "output_type": "stream",
     "text": [
      "((array([2., 7., 0., 0., 1., 0., 0., 0., 0., 1., 0., 0., 0., 1., 0., 0., 1.,\n",
      "       0., 0., 0., 1., 0., 0., 1., 0., 0., 0., 0., 0., 0., 1., 0., 0., 0.,\n",
      "       1., 0., 1., 0., 1., 0., 0., 1., 1., 0., 1., 0., 0., 0., 0., 0., 0.,\n",
      "       1., 0., 0., 0., 1., 0., 0., 1., 0., 0., 0., 1., 0., 0., 1., 0., 0.,\n",
      "       0., 0., 0.], dtype=float32), array([7., 0., 0., 0., 1., 0., 0., 1., 0., 1., 0., 0., 0., 0., 0., 0., 1.,\n",
      "       0., 0., 0., 0., 0., 0., 1., 0., 0., 0., 0., 0., 0., 1., 0., 0., 0.,\n",
      "       0., 0., 1., 0., 1., 0., 0., 0., 0., 0., 1., 0., 0., 0., 0., 0., 0.,\n",
      "       1., 0., 0., 0., 0., 0., 0., 1., 0., 0., 0., 1., 0., 0., 1., 0., 0.,\n",
      "       0., 1., 1.], dtype=float32)), {})\n"
     ]
    }
   ],
   "source": [
    "obs = env.reset()\n",
    "print(obs)"
   ]
  },
  {
   "cell_type": "markdown",
   "id": "8973ae5e",
   "metadata": {},
   "source": [
    "##  Q_learning with Q_tables"
   ]
  },
  {
   "cell_type": "code",
   "execution_count": 4,
   "id": "307d3742",
   "metadata": {},
   "outputs": [
    {
     "name": "stderr",
     "output_type": "stream",
     "text": [
      "/Users/carmenhe/Desktop/cse190-drl/intro-deep-rl-course/homeworks/hw2/venv/lib/python3.12/site-packages/gymnasium/utils/passive_env_checker.py:245: UserWarning: \u001b[33mWARN: The reward returned by `step()` must be a float, int, np.integer or np.floating, actual type: <class 'list'>\u001b[0m\n",
      "  logger.warn(\n"
     ]
    },
    {
     "name": "stdout",
     "output_type": "stream",
     "text": [
      "Episode 500: epsilon=0.606, Q-table sizes=[14304, 14319], reward=[np.float64(4.0), np.float64(1.0)]\n",
      "Episode 1000: epsilon=0.368, Q-table sizes=[15737, 15694], reward=[np.float64(9.0), np.float64(6.0)]\n",
      "Episode 1500: epsilon=0.223, Q-table sizes=[16035, 15946], reward=[np.float64(12.0), np.float64(10.0)]\n",
      "Episode 2000: epsilon=0.135, Q-table sizes=[16110, 16051], reward=[np.float64(13.0), np.float64(15.0)]\n",
      "\n",
      "✅ Training complete!\n",
      "✅ Saved rware_eval.gif\n"
     ]
    },
    {
     "ename": "AttributeError",
     "evalue": "'CocoaAlternateEventLoop' object has no attribute 'platform_event_loop'",
     "output_type": "error",
     "traceback": [
      "\u001b[31m---------------------------------------------------------------------------\u001b[39m",
      "\u001b[31mAttributeError\u001b[39m                            Traceback (most recent call last)",
      "\u001b[36mCell\u001b[39m\u001b[36m \u001b[39m\u001b[32mIn[4]\u001b[39m\u001b[32m, line 126\u001b[39m\n\u001b[32m    123\u001b[39m \u001b[38;5;28mprint\u001b[39m(\u001b[33m\"\u001b[39m\u001b[33m✅ Saved rware_eval.gif\u001b[39m\u001b[33m\"\u001b[39m)\n\u001b[32m    125\u001b[39m \u001b[38;5;28minput\u001b[39m(\u001b[33m\"\u001b[39m\u001b[38;5;130;01m\\n\u001b[39;00m\u001b[33m🏁 Finished. Press Enter to exit...\u001b[39m\u001b[33m\"\u001b[39m)\n\u001b[32m--> \u001b[39m\u001b[32m126\u001b[39m \u001b[43menv\u001b[49m\u001b[43m.\u001b[49m\u001b[43mclose\u001b[49m\u001b[43m(\u001b[49m\u001b[43m)\u001b[49m\n",
      "\u001b[36mFile \u001b[39m\u001b[32m~/Desktop/cse190-drl/intro-deep-rl-course/homeworks/hw2/venv/lib/python3.12/site-packages/gymnasium/core.py:341\u001b[39m, in \u001b[36mWrapper.close\u001b[39m\u001b[34m(self)\u001b[39m\n\u001b[32m    339\u001b[39m \u001b[38;5;28;01mdef\u001b[39;00m\u001b[38;5;250m \u001b[39m\u001b[34mclose\u001b[39m(\u001b[38;5;28mself\u001b[39m):\n\u001b[32m    340\u001b[39m \u001b[38;5;250m    \u001b[39m\u001b[33;03m\"\"\"Closes the wrapper and :attr:`env`.\"\"\"\u001b[39;00m\n\u001b[32m--> \u001b[39m\u001b[32m341\u001b[39m     \u001b[38;5;28;01mreturn\u001b[39;00m \u001b[38;5;28;43mself\u001b[39;49m\u001b[43m.\u001b[49m\u001b[43menv\u001b[49m\u001b[43m.\u001b[49m\u001b[43mclose\u001b[49m\u001b[43m(\u001b[49m\u001b[43m)\u001b[49m\n",
      "\u001b[36mFile \u001b[39m\u001b[32m~/Desktop/cse190-drl/intro-deep-rl-course/homeworks/hw2/venv/lib/python3.12/site-packages/gymnasium/wrappers/common.py:329\u001b[39m, in \u001b[36mPassiveEnvChecker.close\u001b[39m\u001b[34m(self)\u001b[39m\n\u001b[32m    327\u001b[39m \u001b[38;5;28;01mif\u001b[39;00m \u001b[38;5;129;01mnot\u001b[39;00m \u001b[38;5;28mself\u001b[39m.close_called:\n\u001b[32m    328\u001b[39m     \u001b[38;5;28mself\u001b[39m.close_called = \u001b[38;5;28;01mTrue\u001b[39;00m\n\u001b[32m--> \u001b[39m\u001b[32m329\u001b[39m     \u001b[38;5;28;01mreturn\u001b[39;00m \u001b[38;5;28;43mself\u001b[39;49m\u001b[43m.\u001b[49m\u001b[43menv\u001b[49m\u001b[43m.\u001b[49m\u001b[43mclose\u001b[49m\u001b[43m(\u001b[49m\u001b[43m)\u001b[49m\n\u001b[32m    330\u001b[39m \u001b[38;5;28;01melse\u001b[39;00m:\n\u001b[32m    331\u001b[39m     \u001b[38;5;28;01mtry\u001b[39;00m:\n",
      "\u001b[36mFile \u001b[39m\u001b[32m~/Desktop/cse190-drl/intro-deep-rl-course/homeworks/hw2/venv/lib/python3.12/site-packages/rware/warehouse.py:960\u001b[39m, in \u001b[36mWarehouse.close\u001b[39m\u001b[34m(self)\u001b[39m\n\u001b[32m    958\u001b[39m \u001b[38;5;28;01mdef\u001b[39;00m\u001b[38;5;250m \u001b[39m\u001b[34mclose\u001b[39m(\u001b[38;5;28mself\u001b[39m):\n\u001b[32m    959\u001b[39m     \u001b[38;5;28;01mif\u001b[39;00m \u001b[38;5;28mself\u001b[39m.renderer:\n\u001b[32m--> \u001b[39m\u001b[32m960\u001b[39m         \u001b[38;5;28;43mself\u001b[39;49m\u001b[43m.\u001b[49m\u001b[43mrenderer\u001b[49m\u001b[43m.\u001b[49m\u001b[43mclose\u001b[49m\u001b[43m(\u001b[49m\u001b[43m)\u001b[49m\n",
      "\u001b[36mFile \u001b[39m\u001b[32m~/Desktop/cse190-drl/intro-deep-rl-course/homeworks/hw2/venv/lib/python3.12/site-packages/rware/rendering.py:107\u001b[39m, in \u001b[36mViewer.close\u001b[39m\u001b[34m(self)\u001b[39m\n\u001b[32m    106\u001b[39m \u001b[38;5;28;01mdef\u001b[39;00m\u001b[38;5;250m \u001b[39m\u001b[34mclose\u001b[39m(\u001b[38;5;28mself\u001b[39m):\n\u001b[32m--> \u001b[39m\u001b[32m107\u001b[39m     \u001b[38;5;28;43mself\u001b[39;49m\u001b[43m.\u001b[49m\u001b[43mwindow\u001b[49m\u001b[43m.\u001b[49m\u001b[43mclose\u001b[49m\u001b[43m(\u001b[49m\u001b[43m)\u001b[49m\n",
      "\u001b[36mFile \u001b[39m\u001b[32m~/Desktop/cse190-drl/intro-deep-rl-course/homeworks/hw2/venv/lib/python3.12/site-packages/pyglet/window/cocoa/__init__.py:285\u001b[39m, in \u001b[36mCocoaWindow.close\u001b[39m\u001b[34m(self)\u001b[39m\n\u001b[32m    281\u001b[39m     \u001b[38;5;28mself\u001b[39m.canvas = \u001b[38;5;28;01mNone\u001b[39;00m\n\u001b[32m    283\u001b[39m \u001b[38;5;66;03m# Do this last, so that we don't see white flash\u001b[39;00m\n\u001b[32m    284\u001b[39m \u001b[38;5;66;03m# when exiting application from fullscreen mode.\u001b[39;00m\n\u001b[32m--> \u001b[39m\u001b[32m285\u001b[39m \u001b[38;5;28;43msuper\u001b[39;49m\u001b[43m(\u001b[49m\u001b[43mCocoaWindow\u001b[49m\u001b[43m,\u001b[49m\u001b[43m \u001b[49m\u001b[38;5;28;43mself\u001b[39;49m\u001b[43m)\u001b[49m\u001b[43m.\u001b[49m\u001b[43mclose\u001b[49m\u001b[43m(\u001b[49m\u001b[43m)\u001b[49m\n\u001b[32m    287\u001b[39m \u001b[38;5;28mself\u001b[39m._was_closed = \u001b[38;5;28;01mTrue\u001b[39;00m\n",
      "\u001b[36mFile \u001b[39m\u001b[32m~/Desktop/cse190-drl/intro-deep-rl-course/homeworks/hw2/venv/lib/python3.12/site-packages/pyglet/window/__init__.py:863\u001b[39m, in \u001b[36mBaseWindow.close\u001b[39m\u001b[34m(self)\u001b[39m\n\u001b[32m    861\u001b[39m \u001b[38;5;28mself\u001b[39m._context = \u001b[38;5;28;01mNone\u001b[39;00m\n\u001b[32m    862\u001b[39m \u001b[38;5;28;01mif\u001b[39;00m app.event_loop:\n\u001b[32m--> \u001b[39m\u001b[32m863\u001b[39m     \u001b[43mapp\u001b[49m\u001b[43m.\u001b[49m\u001b[43mevent_loop\u001b[49m\u001b[43m.\u001b[49m\u001b[43mdispatch_event\u001b[49m\u001b[43m(\u001b[49m\u001b[33;43m'\u001b[39;49m\u001b[33;43mon_window_close\u001b[39;49m\u001b[33;43m'\u001b[39;49m\u001b[43m,\u001b[49m\u001b[43m \u001b[49m\u001b[38;5;28;43mself\u001b[39;49m\u001b[43m)\u001b[49m\n\u001b[32m    864\u001b[39m \u001b[38;5;28mself\u001b[39m._event_queue = []\n",
      "\u001b[36mFile \u001b[39m\u001b[32m~/Desktop/cse190-drl/intro-deep-rl-course/homeworks/hw2/venv/lib/python3.12/site-packages/pyglet/event.py:420\u001b[39m, in \u001b[36mEventDispatcher.dispatch_event\u001b[39m\u001b[34m(self, event_type, *args)\u001b[39m\n\u001b[32m    418\u001b[39m     event_op = \u001b[38;5;28mgetattr\u001b[39m(\u001b[38;5;28mself\u001b[39m, event_type, \u001b[38;5;28;01mNone\u001b[39;00m)\n\u001b[32m    419\u001b[39m     \u001b[38;5;28;01mif\u001b[39;00m \u001b[38;5;28mcallable\u001b[39m(event_op):\n\u001b[32m--> \u001b[39m\u001b[32m420\u001b[39m         \u001b[38;5;28;01mraise\u001b[39;00m e\n\u001b[32m    421\u001b[39m \u001b[38;5;28;01mexcept\u001b[39;00m \u001b[38;5;167;01mTypeError\u001b[39;00m \u001b[38;5;28;01mas\u001b[39;00m exception:\n\u001b[32m    422\u001b[39m     \u001b[38;5;28mself\u001b[39m._raise_dispatch_exception(event_type, args, \u001b[38;5;28mgetattr\u001b[39m(\u001b[38;5;28mself\u001b[39m, event_type), exception)\n",
      "\u001b[36mFile \u001b[39m\u001b[32m~/Desktop/cse190-drl/intro-deep-rl-course/homeworks/hw2/venv/lib/python3.12/site-packages/pyglet/event.py:415\u001b[39m, in \u001b[36mEventDispatcher.dispatch_event\u001b[39m\u001b[34m(self, event_type, *args)\u001b[39m\n\u001b[32m    413\u001b[39m \u001b[38;5;66;03m# Check instance for an event handler\u001b[39;00m\n\u001b[32m    414\u001b[39m \u001b[38;5;28;01mtry\u001b[39;00m:\n\u001b[32m--> \u001b[39m\u001b[32m415\u001b[39m     \u001b[38;5;28;01mif\u001b[39;00m \u001b[38;5;28;43mgetattr\u001b[39;49m\u001b[43m(\u001b[49m\u001b[38;5;28;43mself\u001b[39;49m\u001b[43m,\u001b[49m\u001b[43m \u001b[49m\u001b[43mevent_type\u001b[49m\u001b[43m)\u001b[49m\u001b[43m(\u001b[49m\u001b[43m*\u001b[49m\u001b[43margs\u001b[49m\u001b[43m)\u001b[49m:\n\u001b[32m    416\u001b[39m         \u001b[38;5;28;01mreturn\u001b[39;00m EVENT_HANDLED\n\u001b[32m    417\u001b[39m \u001b[38;5;28;01mexcept\u001b[39;00m \u001b[38;5;167;01mAttributeError\u001b[39;00m \u001b[38;5;28;01mas\u001b[39;00m e:\n",
      "\u001b[36mFile \u001b[39m\u001b[32m~/Desktop/cse190-drl/intro-deep-rl-course/homeworks/hw2/venv/lib/python3.12/site-packages/pyglet/app/base.py:308\u001b[39m, in \u001b[36mEventLoop.on_window_close\u001b[39m\u001b[34m(self, window)\u001b[39m\n\u001b[32m    306\u001b[39m \u001b[38;5;250m\u001b[39m\u001b[33;03m\"\"\"Default window close handler.\"\"\"\u001b[39;00m\n\u001b[32m    307\u001b[39m \u001b[38;5;28;01mif\u001b[39;00m \u001b[38;5;28mlen\u001b[39m(app.windows) == \u001b[32m0\u001b[39m:\n\u001b[32m--> \u001b[39m\u001b[32m308\u001b[39m     \u001b[38;5;28;43mself\u001b[39;49m\u001b[43m.\u001b[49m\u001b[43mexit\u001b[49m\u001b[43m(\u001b[49m\u001b[43m)\u001b[49m\n",
      "\u001b[36mFile \u001b[39m\u001b[32m~/Desktop/cse190-drl/intro-deep-rl-course/homeworks/hw2/venv/lib/python3.12/site-packages/pyglet/app/cocoa.py:107\u001b[39m, in \u001b[36mCocoaAlternateEventLoop.exit\u001b[39m\u001b[34m(self)\u001b[39m\n\u001b[32m    100\u001b[39m \u001b[38;5;250m\u001b[39m\u001b[33;03m\"\"\"Safely exit the event loop at the end of the current iteration.\u001b[39;00m\n\u001b[32m    101\u001b[39m \n\u001b[32m    102\u001b[39m \u001b[33;03mThis method is a thread-safe equivalent for setting\u001b[39;00m\n\u001b[32m    103\u001b[39m \u001b[33;03m:py:attr:`has_exit` to ``True``.  All waiting threads will be\u001b[39;00m\n\u001b[32m    104\u001b[39m \u001b[33;03minterrupted (see :py:meth:`sleep`).\u001b[39;00m\n\u001b[32m    105\u001b[39m \u001b[33;03m\"\"\"\u001b[39;00m\n\u001b[32m    106\u001b[39m \u001b[38;5;28mself\u001b[39m.has_exit = \u001b[38;5;28;01mTrue\u001b[39;00m\n\u001b[32m--> \u001b[39m\u001b[32m107\u001b[39m \u001b[38;5;28;43mself\u001b[39;49m\u001b[43m.\u001b[49m\u001b[43mplatform_event_loop\u001b[49m.notify()\n\u001b[32m    109\u001b[39m \u001b[38;5;28mself\u001b[39m.is_running = \u001b[38;5;28;01mFalse\u001b[39;00m\n\u001b[32m    110\u001b[39m \u001b[38;5;28mself\u001b[39m.dispatch_event(\u001b[33m'\u001b[39m\u001b[33mon_exit\u001b[39m\u001b[33m'\u001b[39m)\n",
      "\u001b[31mAttributeError\u001b[39m: 'CocoaAlternateEventLoop' object has no attribute 'platform_event_loop'"
     ]
    }
   ],
   "source": [
    "frames = []\n",
    "\n",
    "# --- Q-learning config ---\n",
    "n_agents = 2\n",
    "n_actions = 5\n",
    "alpha = 0.1         # learning rate\n",
    "gamma = 0.95        # discount\n",
    "epsilon = 1.0       # exploration rate\n",
    "epsilon_decay = 0.999\n",
    "epsilon_min = 0.05\n",
    "num_episodes = 2000\n",
    "max_steps = 300     # per episode\n",
    "\n",
    "# --- Define small custom layout ---\n",
    "layout = '''\n",
    "x.x\n",
    ".g.\n",
    "x.x\n",
    "'''\n",
    "\n",
    "# --- Create environment with custom layout ---\n",
    "env = gym.make(\"rware:rware-tiny-2ag-v2\", layout=layout)\n",
    "obs, _ = env.reset()\n",
    "\n",
    "# --- Initialize Q-tables ---\n",
    "Q_tables = [{} for _ in range(n_agents)]\n",
    "\n",
    "def get_state_key(obs_vector):\n",
    "    # Discretize and compress observation\n",
    "    return tuple(np.round(obs_vector, 1)) # [::4]\n",
    "\n",
    "def choose_action(agent_id, obs):\n",
    "    state = get_state_key(obs)\n",
    "    if np.random.rand() < epsilon:\n",
    "        return env.action_space[agent_id].sample()\n",
    "    q_vals = Q_tables[agent_id].get(state, np.zeros(n_actions))\n",
    "    return int(np.argmax(q_vals))\n",
    "\n",
    "# --- Training loop ---\n",
    "for episode in range(num_episodes):\n",
    "    obs, _ = env.reset()\n",
    "    done = [False] * n_agents\n",
    "    total_reward = [0] * n_agents\n",
    "\n",
    "    for step in range(max_steps):\n",
    "        actions = [choose_action(i, obs[i]) for i in range(n_agents)]\n",
    "        next_obs, rewards, terminated, truncated, _ = env.step(actions)\n",
    "\n",
    "        if not isinstance(terminated, (list, tuple)):\n",
    "            terminated = [terminated] * n_agents\n",
    "        if not isinstance(truncated, (list, tuple)):\n",
    "            truncated = [truncated] * n_agents\n",
    "\n",
    "        done = [t or tr for t, tr in zip(terminated, truncated)]\n",
    "\n",
    "        for i in range(n_agents):\n",
    "            s = get_state_key(obs[i])\n",
    "            s_next = get_state_key(next_obs[i])\n",
    "\n",
    "            Q_tables[i].setdefault(s, np.zeros(n_actions))\n",
    "            Q_tables[i].setdefault(s_next, np.zeros(n_actions))\n",
    "\n",
    "            best_next = np.max(Q_tables[i][s_next])\n",
    "            Q_tables[i][s][actions[i]] += alpha * (rewards[i] + gamma * best_next - Q_tables[i][s][actions[i]])\n",
    "\n",
    "            total_reward[i] += rewards[i]\n",
    "\n",
    "        obs = next_obs\n",
    "        if all(done):\n",
    "            break\n",
    "\n",
    "    epsilon = max(epsilon_min, epsilon * epsilon_decay)\n",
    "\n",
    "    if (episode + 1) % 500 == 0:\n",
    "        sizes = [len(q) for q in Q_tables]\n",
    "        print(f\"Episode {episode+1}: epsilon={epsilon:.3f}, Q-table sizes={sizes}, reward={total_reward}\")\n",
    "\n",
    "# # --- Save Q-tables (optional) ---\n",
    "# with open(\"q_tables.pkl\", \"wb\") as f:\n",
    "#     pickle.dump(Q_tables, f)\n",
    "\n",
    "print(\"\\n✅ Training complete!\")\n",
    "\n",
    "# --- Evaluation ---\n",
    "obs, _ = env.reset()\n",
    "done = [False] * n_agents\n",
    "\n",
    "for step in range(max_steps):\n",
    "    actions = []\n",
    "    for i in range(n_agents):\n",
    "        state = get_state_key(obs[i])\n",
    "        q_vals = Q_tables[i].get(state, np.zeros(n_actions))\n",
    "        actions.append(int(np.argmax(q_vals)))\n",
    "\n",
    "    obs, rewards, terminated, truncated, _ = env.step(actions)\n",
    "\n",
    "    if not isinstance(terminated, (list, tuple)):\n",
    "        terminated = [terminated] * n_agents\n",
    "    if not isinstance(truncated, (list, tuple)):\n",
    "        truncated = [truncated] * n_agents\n",
    "\n",
    "    done = [t or tr for t, tr in zip(terminated, truncated)]\n",
    "\n",
    "    env.render()\n",
    "    # Capture the current frame from the pyglet window\n",
    "    if hasattr(env.unwrapped, \"renderer\") and hasattr(env.unwrapped.renderer, \"window\"):\n",
    "        win = env.unwrapped.renderer.window\n",
    "        win.switch_to()\n",
    "        win.dispatch_events()\n",
    "        buffer = image.get_buffer_manager().get_color_buffer()\n",
    "        img_data = buffer.get_image_data()\n",
    "        frame = np.frombuffer(img_data.get_data('RGB', buffer.width * 3), dtype=np.uint8)\n",
    "        frame = frame.reshape((buffer.height, buffer.width, 3))\n",
    "        frame = np.flipud(frame)  # flip vertically\n",
    "        frames.append(frame)\n",
    "    time.sleep(0.1)\n",
    "\n",
    "    if all(done):\n",
    "        break\n",
    "\n",
    "# Save frames as GIF\n",
    "imageio.mimsave(\"rware_eval.gif\", frames, fps=10)\n",
    "print(\"✅ Saved rware_eval.gif\")\n",
    "\n",
    "input(\"\\n🏁 Finished. Press Enter to exit...\")\n",
    "env.close()"
   ]
  }
 ],
 "metadata": {
  "kernelspec": {
   "display_name": "venv",
   "language": "python",
   "name": "python3"
  },
  "language_info": {
   "codemirror_mode": {
    "name": "ipython",
    "version": 3
   },
   "file_extension": ".py",
   "mimetype": "text/x-python",
   "name": "python",
   "nbconvert_exporter": "python",
   "pygments_lexer": "ipython3",
   "version": "3.12.4"
  }
 },
 "nbformat": 4,
 "nbformat_minor": 5
}
